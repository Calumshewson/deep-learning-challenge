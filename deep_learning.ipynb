{
 "cells": [
  {
   "cell_type": "markdown",
   "metadata": {},
   "source": [
    "## Preprocessing"
   ]
  },
  {
   "cell_type": "code",
   "execution_count": 1,
   "metadata": {},
   "outputs": [
    {
     "data": {
      "text/html": [
       "<div>\n",
       "<style scoped>\n",
       "    .dataframe tbody tr th:only-of-type {\n",
       "        vertical-align: middle;\n",
       "    }\n",
       "\n",
       "    .dataframe tbody tr th {\n",
       "        vertical-align: top;\n",
       "    }\n",
       "\n",
       "    .dataframe thead th {\n",
       "        text-align: right;\n",
       "    }\n",
       "</style>\n",
       "<table border=\"1\" class=\"dataframe\">\n",
       "  <thead>\n",
       "    <tr style=\"text-align: right;\">\n",
       "      <th></th>\n",
       "      <th>EIN</th>\n",
       "      <th>NAME</th>\n",
       "      <th>APPLICATION_TYPE</th>\n",
       "      <th>AFFILIATION</th>\n",
       "      <th>CLASSIFICATION</th>\n",
       "      <th>USE_CASE</th>\n",
       "      <th>ORGANIZATION</th>\n",
       "      <th>STATUS</th>\n",
       "      <th>INCOME_AMT</th>\n",
       "      <th>SPECIAL_CONSIDERATIONS</th>\n",
       "      <th>ASK_AMT</th>\n",
       "      <th>IS_SUCCESSFUL</th>\n",
       "    </tr>\n",
       "  </thead>\n",
       "  <tbody>\n",
       "    <tr>\n",
       "      <th>0</th>\n",
       "      <td>10520599</td>\n",
       "      <td>BLUE KNIGHTS MOTORCYCLE CLUB</td>\n",
       "      <td>T10</td>\n",
       "      <td>Independent</td>\n",
       "      <td>C1000</td>\n",
       "      <td>ProductDev</td>\n",
       "      <td>Association</td>\n",
       "      <td>1</td>\n",
       "      <td>0</td>\n",
       "      <td>N</td>\n",
       "      <td>5000</td>\n",
       "      <td>1</td>\n",
       "    </tr>\n",
       "    <tr>\n",
       "      <th>1</th>\n",
       "      <td>10531628</td>\n",
       "      <td>AMERICAN CHESAPEAKE CLUB CHARITABLE TR</td>\n",
       "      <td>T3</td>\n",
       "      <td>Independent</td>\n",
       "      <td>C2000</td>\n",
       "      <td>Preservation</td>\n",
       "      <td>Co-operative</td>\n",
       "      <td>1</td>\n",
       "      <td>1-9999</td>\n",
       "      <td>N</td>\n",
       "      <td>108590</td>\n",
       "      <td>1</td>\n",
       "    </tr>\n",
       "    <tr>\n",
       "      <th>2</th>\n",
       "      <td>10547893</td>\n",
       "      <td>ST CLOUD PROFESSIONAL FIREFIGHTERS</td>\n",
       "      <td>T5</td>\n",
       "      <td>CompanySponsored</td>\n",
       "      <td>C3000</td>\n",
       "      <td>ProductDev</td>\n",
       "      <td>Association</td>\n",
       "      <td>1</td>\n",
       "      <td>0</td>\n",
       "      <td>N</td>\n",
       "      <td>5000</td>\n",
       "      <td>0</td>\n",
       "    </tr>\n",
       "    <tr>\n",
       "      <th>3</th>\n",
       "      <td>10553066</td>\n",
       "      <td>SOUTHSIDE ATHLETIC ASSOCIATION</td>\n",
       "      <td>T3</td>\n",
       "      <td>CompanySponsored</td>\n",
       "      <td>C2000</td>\n",
       "      <td>Preservation</td>\n",
       "      <td>Trust</td>\n",
       "      <td>1</td>\n",
       "      <td>10000-24999</td>\n",
       "      <td>N</td>\n",
       "      <td>6692</td>\n",
       "      <td>1</td>\n",
       "    </tr>\n",
       "    <tr>\n",
       "      <th>4</th>\n",
       "      <td>10556103</td>\n",
       "      <td>GENETIC RESEARCH INSTITUTE OF THE DESERT</td>\n",
       "      <td>T3</td>\n",
       "      <td>Independent</td>\n",
       "      <td>C1000</td>\n",
       "      <td>Heathcare</td>\n",
       "      <td>Trust</td>\n",
       "      <td>1</td>\n",
       "      <td>100000-499999</td>\n",
       "      <td>N</td>\n",
       "      <td>142590</td>\n",
       "      <td>1</td>\n",
       "    </tr>\n",
       "  </tbody>\n",
       "</table>\n",
       "</div>"
      ],
      "text/plain": [
       "        EIN                                      NAME APPLICATION_TYPE  \\\n",
       "0  10520599              BLUE KNIGHTS MOTORCYCLE CLUB              T10   \n",
       "1  10531628    AMERICAN CHESAPEAKE CLUB CHARITABLE TR               T3   \n",
       "2  10547893        ST CLOUD PROFESSIONAL FIREFIGHTERS               T5   \n",
       "3  10553066            SOUTHSIDE ATHLETIC ASSOCIATION               T3   \n",
       "4  10556103  GENETIC RESEARCH INSTITUTE OF THE DESERT               T3   \n",
       "\n",
       "        AFFILIATION CLASSIFICATION      USE_CASE  ORGANIZATION  STATUS  \\\n",
       "0       Independent          C1000    ProductDev   Association       1   \n",
       "1       Independent          C2000  Preservation  Co-operative       1   \n",
       "2  CompanySponsored          C3000    ProductDev   Association       1   \n",
       "3  CompanySponsored          C2000  Preservation         Trust       1   \n",
       "4       Independent          C1000     Heathcare         Trust       1   \n",
       "\n",
       "      INCOME_AMT SPECIAL_CONSIDERATIONS  ASK_AMT  IS_SUCCESSFUL  \n",
       "0              0                      N     5000              1  \n",
       "1         1-9999                      N   108590              1  \n",
       "2              0                      N     5000              0  \n",
       "3    10000-24999                      N     6692              1  \n",
       "4  100000-499999                      N   142590              1  "
      ]
     },
     "execution_count": 1,
     "metadata": {},
     "output_type": "execute_result"
    }
   ],
   "source": [
    "# Import our dependencies\n",
    "from sklearn.model_selection import train_test_split\n",
    "from sklearn.preprocessing import StandardScaler\n",
    "import pandas as pd\n",
    "import tensorflow as tf\n",
    "\n",
    "#  Import and read the charity_data.csv.\n",
    "import pandas as pd\n",
    "application_df = pd.read_csv(\"https://static.bc-edx.com/data/dl-1-2/m21/lms/starter/charity_data.csv\")\n",
    "application_df.head()"
   ]
  },
  {
   "cell_type": "code",
   "execution_count": 3,
   "metadata": {},
   "outputs": [],
   "source": [
    "# Drop the non-beneficial ID columns, 'EIN' and 'NAME'.\n",
    "application_df = application_df.drop(columns=['EIN', 'NAME'])"
   ]
  },
  {
   "cell_type": "code",
   "execution_count": 5,
   "metadata": {},
   "outputs": [
    {
     "data": {
      "text/plain": [
       "APPLICATION_TYPE            17\n",
       "AFFILIATION                  6\n",
       "CLASSIFICATION              71\n",
       "USE_CASE                     5\n",
       "ORGANIZATION                 4\n",
       "STATUS                       2\n",
       "INCOME_AMT                   9\n",
       "SPECIAL_CONSIDERATIONS       2\n",
       "ASK_AMT                   8747\n",
       "IS_SUCCESSFUL                2\n",
       "dtype: int64"
      ]
     },
     "execution_count": 5,
     "metadata": {},
     "output_type": "execute_result"
    }
   ],
   "source": [
    "# Determine the number of unique values in each column.\n",
    "unique_counts = application_df.nunique()\n",
    "unique_counts"
   ]
  },
  {
   "cell_type": "code",
   "execution_count": 7,
   "metadata": {},
   "outputs": [
    {
     "data": {
      "text/plain": [
       "APPLICATION_TYPE\n",
       "T3     27037\n",
       "T4      1542\n",
       "T6      1216\n",
       "T5      1173\n",
       "T19     1065\n",
       "T8       737\n",
       "T7       725\n",
       "T10      528\n",
       "T9       156\n",
       "T13       66\n",
       "T12       27\n",
       "T2        16\n",
       "T25        3\n",
       "T14        3\n",
       "T29        2\n",
       "T15        2\n",
       "T17        1\n",
       "Name: count, dtype: int64"
      ]
     },
     "execution_count": 7,
     "metadata": {},
     "output_type": "execute_result"
    }
   ],
   "source": [
    "# Look at APPLICATION_TYPE value counts to identify and replace with \"Other\"\n",
    "application_counts = application_df['APPLICATION_TYPE'].value_counts()\n",
    "application_counts"
   ]
  },
  {
   "cell_type": "code",
   "execution_count": 9,
   "metadata": {},
   "outputs": [
    {
     "data": {
      "text/plain": [
       "APPLICATION_TYPE\n",
       "T3       27037\n",
       "T4        1542\n",
       "T6        1216\n",
       "T5        1173\n",
       "T19       1065\n",
       "T8         737\n",
       "T7         725\n",
       "T10        528\n",
       "Other      276\n",
       "Name: count, dtype: int64"
      ]
     },
     "execution_count": 9,
     "metadata": {},
     "output_type": "execute_result"
    }
   ],
   "source": [
    "# Choose a cutoff value and create a list of application types to be replaced\n",
    "# use the variable name `application_types_to_replace`\n",
    "# Step 1: Get the value counts\n",
    "application_counts = application_df['APPLICATION_TYPE'].value_counts()\n",
    "\n",
    "# Step 2: Define a cutoff value\n",
    "cutoff_value = 200  \n",
    "\n",
    "# Step 3: Create a list of application types to replace\n",
    "application_types_to_replace = application_counts[application_counts < cutoff_value].index.tolist()\n",
    "\n",
    "# Replace in dataframe\n",
    "for app in application_types_to_replace:\n",
    "    application_df['APPLICATION_TYPE'] = application_df['APPLICATION_TYPE'].replace(app,\"Other\")\n",
    "\n",
    "# Check to make sure replacement was successful\n",
    "application_df['APPLICATION_TYPE'].value_counts()"
   ]
  },
  {
   "cell_type": "code",
   "execution_count": 11,
   "metadata": {},
   "outputs": [
    {
     "data": {
      "text/plain": [
       "CLASSIFICATION\n",
       "C1000    17326\n",
       "C2000     6074\n",
       "C1200     4837\n",
       "C3000     1918\n",
       "C2100     1883\n",
       "         ...  \n",
       "C4120        1\n",
       "C8210        1\n",
       "C2561        1\n",
       "C4500        1\n",
       "C2150        1\n",
       "Name: count, Length: 71, dtype: int64"
      ]
     },
     "execution_count": 11,
     "metadata": {},
     "output_type": "execute_result"
    }
   ],
   "source": [
    "# Look at CLASSIFICATION value counts to identify and replace with \"Other\"\n",
    "classification_counts = application_df['CLASSIFICATION'].value_counts()\n",
    "classification_counts"
   ]
  },
  {
   "cell_type": "code",
   "execution_count": 13,
   "metadata": {},
   "outputs": [
    {
     "data": {
      "text/plain": [
       "CLASSIFICATION\n",
       "C1000    17326\n",
       "C2000     6074\n",
       "C1200     4837\n",
       "C3000     1918\n",
       "C2100     1883\n",
       "C7000      777\n",
       "C1700      287\n",
       "C4000      194\n",
       "C5000      116\n",
       "C1270      114\n",
       "C2700      104\n",
       "C2800       95\n",
       "C7100       75\n",
       "C1300       58\n",
       "C1280       50\n",
       "C1230       36\n",
       "C1400       34\n",
       "C7200       32\n",
       "C2300       32\n",
       "C1240       30\n",
       "C8000       20\n",
       "C7120       18\n",
       "C1500       16\n",
       "C1800       15\n",
       "C6000       15\n",
       "C1250       14\n",
       "C8200       11\n",
       "C1238       10\n",
       "C1278       10\n",
       "C1235        9\n",
       "C1237        9\n",
       "C7210        7\n",
       "C2400        6\n",
       "C1720        6\n",
       "C4100        6\n",
       "C1257        5\n",
       "C1600        5\n",
       "C1260        3\n",
       "C2710        3\n",
       "C0           3\n",
       "C3200        2\n",
       "C1234        2\n",
       "C1246        2\n",
       "C1267        2\n",
       "C1256        2\n",
       "Name: count, dtype: int64"
      ]
     },
     "execution_count": 13,
     "metadata": {},
     "output_type": "execute_result"
    }
   ],
   "source": [
    "# You may find it helpful to look at CLASSIFICATION value counts >1\n",
    "classification_counts = application_df['CLASSIFICATION'].value_counts()\n",
    "filtered_classification_counts = classification_counts[classification_counts > 1]\n",
    "filtered_classification_counts"
   ]
  },
  {
   "cell_type": "code",
   "execution_count": 15,
   "metadata": {},
   "outputs": [
    {
     "data": {
      "text/plain": [
       "CLASSIFICATION\n",
       "C1000    17326\n",
       "C2000     6074\n",
       "C1200     4837\n",
       "C3000     1918\n",
       "C2100     1883\n",
       "Other     1197\n",
       "C7000      777\n",
       "C1700      287\n",
       "Name: count, dtype: int64"
      ]
     },
     "execution_count": 15,
     "metadata": {},
     "output_type": "execute_result"
    }
   ],
   "source": [
    "# Choose a cutoff value and create a list of classifications to be replaced\n",
    "# use the variable name `classifications_to_replace`\n",
    "\n",
    "cutoff_value = 200\n",
    "\n",
    "classifications_to_replace = application_df['CLASSIFICATION'].value_counts()[application_df['CLASSIFICATION'].value_counts() <= cutoff_value].index.tolist()\n",
    "\n",
    "# Replace in dataframe\n",
    "for cls in classifications_to_replace:\n",
    "    application_df['CLASSIFICATION'] = application_df['CLASSIFICATION'].replace(cls,\"Other\")\n",
    "\n",
    "# Check to make sure replacement was successful\n",
    "application_df['CLASSIFICATION'].value_counts()"
   ]
  },
  {
   "cell_type": "code",
   "execution_count": 17,
   "metadata": {},
   "outputs": [],
   "source": [
    "# Convert categorical data to numeric with `pd.get_dummies`\n",
    "application_df = pd.get_dummies(application_df, drop_first=True)"
   ]
  },
  {
   "cell_type": "code",
   "execution_count": 19,
   "metadata": {},
   "outputs": [],
   "source": [
    "# Split our preprocessed data into our features and target arrays\n",
    "X = application_df.drop(columns=['IS_SUCCESSFUL'])  \n",
    "y = application_df['IS_SUCCESSFUL']\n",
    "\n",
    "# Split the preprocessed data into a training and testing dataset\n",
    "from sklearn.model_selection import train_test_split\n",
    "\n",
    "X_train, X_test, y_train, y_test = train_test_split(X, y, random_state=42, stratify=y)"
   ]
  },
  {
   "cell_type": "code",
   "execution_count": 21,
   "metadata": {},
   "outputs": [],
   "source": [
    "# Create a StandardScaler instances\n",
    "scaler = StandardScaler()\n",
    "\n",
    "# Fit the StandardScaler\n",
    "X_scaler = scaler.fit(X_train)\n",
    "\n",
    "# Scale the data\n",
    "X_train_scaled = X_scaler.transform(X_train)\n",
    "X_test_scaled = X_scaler.transform(X_test)"
   ]
  },
  {
   "cell_type": "markdown",
   "metadata": {},
   "source": [
    "## Compile, Train and Evaluate the Model"
   ]
  },
  {
   "cell_type": "code",
   "execution_count": 23,
   "metadata": {},
   "outputs": [
    {
     "name": "stderr",
     "output_type": "stream",
     "text": [
      "C:\\Users\\warha\\anaconda3\\Lib\\site-packages\\keras\\src\\layers\\core\\dense.py:87: UserWarning: Do not pass an `input_shape`/`input_dim` argument to a layer. When using Sequential models, prefer using an `Input(shape)` object as the first layer in the model instead.\n",
      "  super().__init__(activity_regularizer=activity_regularizer, **kwargs)\n"
     ]
    },
    {
     "data": {
      "text/html": [
       "<pre style=\"white-space:pre;overflow-x:auto;line-height:normal;font-family:Menlo,'DejaVu Sans Mono',consolas,'Courier New',monospace\"><span style=\"font-weight: bold\">Model: \"sequential\"</span>\n",
       "</pre>\n"
      ],
      "text/plain": [
       "\u001b[1mModel: \"sequential\"\u001b[0m\n"
      ]
     },
     "metadata": {},
     "output_type": "display_data"
    },
    {
     "data": {
      "text/html": [
       "<pre style=\"white-space:pre;overflow-x:auto;line-height:normal;font-family:Menlo,'DejaVu Sans Mono',consolas,'Courier New',monospace\">┏━━━━━━━━━━━━━━━━━━━━━━━━━━━━━━━━━┳━━━━━━━━━━━━━━━━━━━━━━━━┳━━━━━━━━━━━━━━━┓\n",
       "┃<span style=\"font-weight: bold\"> Layer (type)                    </span>┃<span style=\"font-weight: bold\"> Output Shape           </span>┃<span style=\"font-weight: bold\">       Param # </span>┃\n",
       "┡━━━━━━━━━━━━━━━━━━━━━━━━━━━━━━━━━╇━━━━━━━━━━━━━━━━━━━━━━━━╇━━━━━━━━━━━━━━━┩\n",
       "│ dense (<span style=\"color: #0087ff; text-decoration-color: #0087ff\">Dense</span>)                   │ (<span style=\"color: #00d7ff; text-decoration-color: #00d7ff\">None</span>, <span style=\"color: #00af00; text-decoration-color: #00af00\">80</span>)             │         <span style=\"color: #00af00; text-decoration-color: #00af00\">3,120</span> │\n",
       "├─────────────────────────────────┼────────────────────────┼───────────────┤\n",
       "│ dense_1 (<span style=\"color: #0087ff; text-decoration-color: #0087ff\">Dense</span>)                 │ (<span style=\"color: #00d7ff; text-decoration-color: #00d7ff\">None</span>, <span style=\"color: #00af00; text-decoration-color: #00af00\">30</span>)             │         <span style=\"color: #00af00; text-decoration-color: #00af00\">2,430</span> │\n",
       "├─────────────────────────────────┼────────────────────────┼───────────────┤\n",
       "│ dense_2 (<span style=\"color: #0087ff; text-decoration-color: #0087ff\">Dense</span>)                 │ (<span style=\"color: #00d7ff; text-decoration-color: #00d7ff\">None</span>, <span style=\"color: #00af00; text-decoration-color: #00af00\">1</span>)              │            <span style=\"color: #00af00; text-decoration-color: #00af00\">31</span> │\n",
       "└─────────────────────────────────┴────────────────────────┴───────────────┘\n",
       "</pre>\n"
      ],
      "text/plain": [
       "┏━━━━━━━━━━━━━━━━━━━━━━━━━━━━━━━━━┳━━━━━━━━━━━━━━━━━━━━━━━━┳━━━━━━━━━━━━━━━┓\n",
       "┃\u001b[1m \u001b[0m\u001b[1mLayer (type)                   \u001b[0m\u001b[1m \u001b[0m┃\u001b[1m \u001b[0m\u001b[1mOutput Shape          \u001b[0m\u001b[1m \u001b[0m┃\u001b[1m \u001b[0m\u001b[1m      Param #\u001b[0m\u001b[1m \u001b[0m┃\n",
       "┡━━━━━━━━━━━━━━━━━━━━━━━━━━━━━━━━━╇━━━━━━━━━━━━━━━━━━━━━━━━╇━━━━━━━━━━━━━━━┩\n",
       "│ dense (\u001b[38;5;33mDense\u001b[0m)                   │ (\u001b[38;5;45mNone\u001b[0m, \u001b[38;5;34m80\u001b[0m)             │         \u001b[38;5;34m3,120\u001b[0m │\n",
       "├─────────────────────────────────┼────────────────────────┼───────────────┤\n",
       "│ dense_1 (\u001b[38;5;33mDense\u001b[0m)                 │ (\u001b[38;5;45mNone\u001b[0m, \u001b[38;5;34m30\u001b[0m)             │         \u001b[38;5;34m2,430\u001b[0m │\n",
       "├─────────────────────────────────┼────────────────────────┼───────────────┤\n",
       "│ dense_2 (\u001b[38;5;33mDense\u001b[0m)                 │ (\u001b[38;5;45mNone\u001b[0m, \u001b[38;5;34m1\u001b[0m)              │            \u001b[38;5;34m31\u001b[0m │\n",
       "└─────────────────────────────────┴────────────────────────┴───────────────┘\n"
      ]
     },
     "metadata": {},
     "output_type": "display_data"
    },
    {
     "data": {
      "text/html": [
       "<pre style=\"white-space:pre;overflow-x:auto;line-height:normal;font-family:Menlo,'DejaVu Sans Mono',consolas,'Courier New',monospace\"><span style=\"font-weight: bold\"> Total params: </span><span style=\"color: #00af00; text-decoration-color: #00af00\">5,581</span> (21.80 KB)\n",
       "</pre>\n"
      ],
      "text/plain": [
       "\u001b[1m Total params: \u001b[0m\u001b[38;5;34m5,581\u001b[0m (21.80 KB)\n"
      ]
     },
     "metadata": {},
     "output_type": "display_data"
    },
    {
     "data": {
      "text/html": [
       "<pre style=\"white-space:pre;overflow-x:auto;line-height:normal;font-family:Menlo,'DejaVu Sans Mono',consolas,'Courier New',monospace\"><span style=\"font-weight: bold\"> Trainable params: </span><span style=\"color: #00af00; text-decoration-color: #00af00\">5,581</span> (21.80 KB)\n",
       "</pre>\n"
      ],
      "text/plain": [
       "\u001b[1m Trainable params: \u001b[0m\u001b[38;5;34m5,581\u001b[0m (21.80 KB)\n"
      ]
     },
     "metadata": {},
     "output_type": "display_data"
    },
    {
     "data": {
      "text/html": [
       "<pre style=\"white-space:pre;overflow-x:auto;line-height:normal;font-family:Menlo,'DejaVu Sans Mono',consolas,'Courier New',monospace\"><span style=\"font-weight: bold\"> Non-trainable params: </span><span style=\"color: #00af00; text-decoration-color: #00af00\">0</span> (0.00 B)\n",
       "</pre>\n"
      ],
      "text/plain": [
       "\u001b[1m Non-trainable params: \u001b[0m\u001b[38;5;34m0\u001b[0m (0.00 B)\n"
      ]
     },
     "metadata": {},
     "output_type": "display_data"
    }
   ],
   "source": [
    "# Define the model - deep neural net, i.e., the number of input features and hidden nodes for each layer.\n",
    "number_input_features = X_train_scaled.shape[1]  \n",
    "hidden_nodes_layer1 = 80  \n",
    "hidden_nodes_layer2 = 30  \n",
    "nn = tf.keras.models.Sequential()\n",
    "\n",
    "# First hidden layer\n",
    "nn.add(tf.keras.layers.Dense(units=hidden_nodes_layer1, input_dim=number_input_features, activation='relu'))\n",
    "\n",
    "# Second hidden layer\n",
    "nn.add(tf.keras.layers.Dense(units=hidden_nodes_layer2, activation='relu'))\n",
    "\n",
    "# Output layer\n",
    "nn.add(tf.keras.layers.Dense(units=1, activation='sigmoid'))  \n",
    "\n",
    "# Check the structure of the model\n",
    "nn.summary()"
   ]
  },
  {
   "cell_type": "code",
   "execution_count": 25,
   "metadata": {},
   "outputs": [],
   "source": [
    "# Compile the model\n",
    "nn.compile(loss='binary_crossentropy', \n",
    "            optimizer='adam', \n",
    "            metrics=['accuracy'])"
   ]
  },
  {
   "cell_type": "code",
   "execution_count": 27,
   "metadata": {},
   "outputs": [
    {
     "name": "stdout",
     "output_type": "stream",
     "text": [
      "Epoch 1/100\n",
      "804/804 - 3s - 4ms/step - accuracy: 0.7208 - loss: 0.5729 - val_accuracy: 0.7222 - val_loss: 0.5639\n",
      "Epoch 2/100\n",
      "804/804 - 1s - 2ms/step - accuracy: 0.7308 - loss: 0.5555 - val_accuracy: 0.7219 - val_loss: 0.5580\n",
      "Epoch 3/100\n",
      "804/804 - 1s - 2ms/step - accuracy: 0.7306 - loss: 0.5525 - val_accuracy: 0.7233 - val_loss: 0.5591\n",
      "Epoch 4/100\n",
      "804/804 - 1s - 2ms/step - accuracy: 0.7324 - loss: 0.5501 - val_accuracy: 0.7242 - val_loss: 0.5597\n",
      "Epoch 5/100\n",
      "804/804 - 1s - 2ms/step - accuracy: 0.7336 - loss: 0.5489 - val_accuracy: 0.7235 - val_loss: 0.5556\n",
      "Epoch 6/100\n",
      "804/804 - 1s - 2ms/step - accuracy: 0.7343 - loss: 0.5485 - val_accuracy: 0.7234 - val_loss: 0.5597\n",
      "Epoch 7/100\n",
      "804/804 - 1s - 2ms/step - accuracy: 0.7338 - loss: 0.5476 - val_accuracy: 0.7244 - val_loss: 0.5594\n",
      "Epoch 8/100\n",
      "804/804 - 1s - 2ms/step - accuracy: 0.7357 - loss: 0.5474 - val_accuracy: 0.7231 - val_loss: 0.5554\n",
      "Epoch 9/100\n",
      "804/804 - 1s - 2ms/step - accuracy: 0.7340 - loss: 0.5463 - val_accuracy: 0.7248 - val_loss: 0.5543\n",
      "Epoch 10/100\n",
      "804/804 - 1s - 2ms/step - accuracy: 0.7339 - loss: 0.5453 - val_accuracy: 0.7208 - val_loss: 0.5569\n",
      "Epoch 11/100\n",
      "804/804 - 1s - 2ms/step - accuracy: 0.7347 - loss: 0.5453 - val_accuracy: 0.7251 - val_loss: 0.5539\n",
      "Epoch 12/100\n",
      "804/804 - 1s - 2ms/step - accuracy: 0.7365 - loss: 0.5447 - val_accuracy: 0.7244 - val_loss: 0.5565\n",
      "Epoch 13/100\n",
      "804/804 - 1s - 2ms/step - accuracy: 0.7357 - loss: 0.5440 - val_accuracy: 0.7242 - val_loss: 0.5547\n",
      "Epoch 14/100\n",
      "804/804 - 1s - 2ms/step - accuracy: 0.7364 - loss: 0.5439 - val_accuracy: 0.7238 - val_loss: 0.5567\n",
      "Epoch 15/100\n",
      "804/804 - 1s - 2ms/step - accuracy: 0.7354 - loss: 0.5432 - val_accuracy: 0.7235 - val_loss: 0.5543\n",
      "Epoch 16/100\n",
      "804/804 - 1s - 2ms/step - accuracy: 0.7361 - loss: 0.5436 - val_accuracy: 0.7238 - val_loss: 0.5544\n",
      "Epoch 17/100\n",
      "804/804 - 1s - 2ms/step - accuracy: 0.7364 - loss: 0.5429 - val_accuracy: 0.7249 - val_loss: 0.5533\n",
      "Epoch 18/100\n",
      "804/804 - 1s - 2ms/step - accuracy: 0.7365 - loss: 0.5426 - val_accuracy: 0.7243 - val_loss: 0.5558\n",
      "Epoch 19/100\n",
      "804/804 - 1s - 2ms/step - accuracy: 0.7361 - loss: 0.5424 - val_accuracy: 0.7234 - val_loss: 0.5540\n",
      "Epoch 20/100\n",
      "804/804 - 1s - 2ms/step - accuracy: 0.7374 - loss: 0.5424 - val_accuracy: 0.7245 - val_loss: 0.5541\n",
      "Epoch 21/100\n",
      "804/804 - 1s - 2ms/step - accuracy: 0.7374 - loss: 0.5416 - val_accuracy: 0.7245 - val_loss: 0.5551\n",
      "Epoch 22/100\n",
      "804/804 - 1s - 2ms/step - accuracy: 0.7378 - loss: 0.5414 - val_accuracy: 0.7228 - val_loss: 0.5553\n",
      "Epoch 23/100\n",
      "804/804 - 1s - 2ms/step - accuracy: 0.7377 - loss: 0.5412 - val_accuracy: 0.7206 - val_loss: 0.5563\n",
      "Epoch 24/100\n",
      "804/804 - 1s - 2ms/step - accuracy: 0.7374 - loss: 0.5412 - val_accuracy: 0.7227 - val_loss: 0.5561\n",
      "Epoch 25/100\n",
      "804/804 - 1s - 2ms/step - accuracy: 0.7363 - loss: 0.5407 - val_accuracy: 0.7226 - val_loss: 0.5531\n",
      "Epoch 26/100\n",
      "804/804 - 1s - 2ms/step - accuracy: 0.7373 - loss: 0.5403 - val_accuracy: 0.7206 - val_loss: 0.5562\n",
      "Epoch 27/100\n",
      "804/804 - 1s - 2ms/step - accuracy: 0.7371 - loss: 0.5404 - val_accuracy: 0.7244 - val_loss: 0.5536\n",
      "Epoch 28/100\n",
      "804/804 - 1s - 2ms/step - accuracy: 0.7387 - loss: 0.5395 - val_accuracy: 0.7249 - val_loss: 0.5519\n",
      "Epoch 29/100\n",
      "804/804 - 1s - 2ms/step - accuracy: 0.7383 - loss: 0.5397 - val_accuracy: 0.7223 - val_loss: 0.5582\n",
      "Epoch 30/100\n",
      "804/804 - 1s - 2ms/step - accuracy: 0.7395 - loss: 0.5396 - val_accuracy: 0.7242 - val_loss: 0.5554\n",
      "Epoch 31/100\n",
      "804/804 - 1s - 2ms/step - accuracy: 0.7397 - loss: 0.5393 - val_accuracy: 0.7242 - val_loss: 0.5558\n",
      "Epoch 32/100\n",
      "804/804 - 1s - 2ms/step - accuracy: 0.7376 - loss: 0.5395 - val_accuracy: 0.7243 - val_loss: 0.5558\n",
      "Epoch 33/100\n",
      "804/804 - 1s - 2ms/step - accuracy: 0.7395 - loss: 0.5394 - val_accuracy: 0.7252 - val_loss: 0.5542\n",
      "Epoch 34/100\n",
      "804/804 - 1s - 2ms/step - accuracy: 0.7387 - loss: 0.5392 - val_accuracy: 0.7256 - val_loss: 0.5545\n",
      "Epoch 35/100\n",
      "804/804 - 1s - 2ms/step - accuracy: 0.7392 - loss: 0.5389 - val_accuracy: 0.7237 - val_loss: 0.5554\n",
      "Epoch 36/100\n",
      "804/804 - 1s - 2ms/step - accuracy: 0.7399 - loss: 0.5389 - val_accuracy: 0.7254 - val_loss: 0.5558\n",
      "Epoch 37/100\n",
      "804/804 - 1s - 2ms/step - accuracy: 0.7400 - loss: 0.5386 - val_accuracy: 0.7247 - val_loss: 0.5560\n",
      "Epoch 38/100\n",
      "804/804 - 1s - 2ms/step - accuracy: 0.7394 - loss: 0.5384 - val_accuracy: 0.7241 - val_loss: 0.5581\n",
      "Epoch 39/100\n",
      "804/804 - 1s - 2ms/step - accuracy: 0.7396 - loss: 0.5383 - val_accuracy: 0.7243 - val_loss: 0.5533\n",
      "Epoch 40/100\n",
      "804/804 - 1s - 2ms/step - accuracy: 0.7392 - loss: 0.5385 - val_accuracy: 0.7244 - val_loss: 0.5536\n",
      "Epoch 41/100\n",
      "804/804 - 1s - 2ms/step - accuracy: 0.7400 - loss: 0.5380 - val_accuracy: 0.7243 - val_loss: 0.5549\n",
      "Epoch 42/100\n",
      "804/804 - 1s - 2ms/step - accuracy: 0.7392 - loss: 0.5374 - val_accuracy: 0.7222 - val_loss: 0.5563\n",
      "Epoch 43/100\n",
      "804/804 - 1s - 2ms/step - accuracy: 0.7399 - loss: 0.5376 - val_accuracy: 0.7258 - val_loss: 0.5558\n",
      "Epoch 44/100\n",
      "804/804 - 1s - 2ms/step - accuracy: 0.7398 - loss: 0.5378 - val_accuracy: 0.7236 - val_loss: 0.5540\n",
      "Epoch 45/100\n",
      "804/804 - 1s - 2ms/step - accuracy: 0.7400 - loss: 0.5371 - val_accuracy: 0.7257 - val_loss: 0.5558\n",
      "Epoch 46/100\n",
      "804/804 - 1s - 2ms/step - accuracy: 0.7395 - loss: 0.5373 - val_accuracy: 0.7250 - val_loss: 0.5550\n",
      "Epoch 47/100\n",
      "804/804 - 1s - 2ms/step - accuracy: 0.7408 - loss: 0.5374 - val_accuracy: 0.7259 - val_loss: 0.5537\n",
      "Epoch 48/100\n",
      "804/804 - 1s - 2ms/step - accuracy: 0.7395 - loss: 0.5367 - val_accuracy: 0.7256 - val_loss: 0.5546\n",
      "Epoch 49/100\n",
      "804/804 - 1s - 2ms/step - accuracy: 0.7398 - loss: 0.5375 - val_accuracy: 0.7236 - val_loss: 0.5555\n",
      "Epoch 50/100\n",
      "804/804 - 1s - 2ms/step - accuracy: 0.7400 - loss: 0.5370 - val_accuracy: 0.7235 - val_loss: 0.5547\n",
      "Epoch 51/100\n",
      "804/804 - 1s - 2ms/step - accuracy: 0.7407 - loss: 0.5368 - val_accuracy: 0.7245 - val_loss: 0.5553\n",
      "Epoch 52/100\n",
      "804/804 - 1s - 2ms/step - accuracy: 0.7399 - loss: 0.5364 - val_accuracy: 0.7228 - val_loss: 0.5551\n",
      "Epoch 53/100\n",
      "804/804 - 1s - 2ms/step - accuracy: 0.7392 - loss: 0.5366 - val_accuracy: 0.7243 - val_loss: 0.5559\n",
      "Epoch 54/100\n",
      "804/804 - 1s - 2ms/step - accuracy: 0.7402 - loss: 0.5361 - val_accuracy: 0.7248 - val_loss: 0.5577\n",
      "Epoch 55/100\n",
      "804/804 - 1s - 2ms/step - accuracy: 0.7397 - loss: 0.5364 - val_accuracy: 0.7241 - val_loss: 0.5561\n",
      "Epoch 56/100\n",
      "804/804 - 1s - 2ms/step - accuracy: 0.7407 - loss: 0.5361 - val_accuracy: 0.7247 - val_loss: 0.5550\n",
      "Epoch 57/100\n",
      "804/804 - 1s - 2ms/step - accuracy: 0.7395 - loss: 0.5360 - val_accuracy: 0.7244 - val_loss: 0.5566\n",
      "Epoch 58/100\n",
      "804/804 - 1s - 2ms/step - accuracy: 0.7397 - loss: 0.5363 - val_accuracy: 0.7238 - val_loss: 0.5545\n",
      "Epoch 59/100\n",
      "804/804 - 1s - 2ms/step - accuracy: 0.7404 - loss: 0.5353 - val_accuracy: 0.7228 - val_loss: 0.5555\n",
      "Epoch 60/100\n",
      "804/804 - 1s - 2ms/step - accuracy: 0.7404 - loss: 0.5351 - val_accuracy: 0.7272 - val_loss: 0.5587\n",
      "Epoch 61/100\n",
      "804/804 - 1s - 2ms/step - accuracy: 0.7399 - loss: 0.5357 - val_accuracy: 0.7251 - val_loss: 0.5584\n",
      "Epoch 62/100\n",
      "804/804 - 1s - 2ms/step - accuracy: 0.7402 - loss: 0.5355 - val_accuracy: 0.7234 - val_loss: 0.5570\n",
      "Epoch 63/100\n",
      "804/804 - 1s - 2ms/step - accuracy: 0.7402 - loss: 0.5354 - val_accuracy: 0.7235 - val_loss: 0.5564\n",
      "Epoch 64/100\n",
      "804/804 - 1s - 2ms/step - accuracy: 0.7400 - loss: 0.5354 - val_accuracy: 0.7238 - val_loss: 0.5560\n",
      "Epoch 65/100\n",
      "804/804 - 1s - 2ms/step - accuracy: 0.7409 - loss: 0.5354 - val_accuracy: 0.7254 - val_loss: 0.5547\n",
      "Epoch 66/100\n",
      "804/804 - 1s - 2ms/step - accuracy: 0.7404 - loss: 0.5350 - val_accuracy: 0.7250 - val_loss: 0.5572\n",
      "Epoch 67/100\n",
      "804/804 - 1s - 2ms/step - accuracy: 0.7408 - loss: 0.5349 - val_accuracy: 0.7245 - val_loss: 0.5570\n",
      "Epoch 68/100\n",
      "804/804 - 1s - 2ms/step - accuracy: 0.7407 - loss: 0.5354 - val_accuracy: 0.7254 - val_loss: 0.5560\n",
      "Epoch 69/100\n",
      "804/804 - 1s - 2ms/step - accuracy: 0.7403 - loss: 0.5350 - val_accuracy: 0.7252 - val_loss: 0.5582\n",
      "Epoch 70/100\n",
      "804/804 - 1s - 2ms/step - accuracy: 0.7408 - loss: 0.5345 - val_accuracy: 0.7247 - val_loss: 0.5587\n",
      "Epoch 71/100\n",
      "804/804 - 1s - 2ms/step - accuracy: 0.7404 - loss: 0.5352 - val_accuracy: 0.7254 - val_loss: 0.5589\n",
      "Epoch 72/100\n",
      "804/804 - 1s - 2ms/step - accuracy: 0.7400 - loss: 0.5350 - val_accuracy: 0.7259 - val_loss: 0.5574\n",
      "Epoch 73/100\n",
      "804/804 - 1s - 2ms/step - accuracy: 0.7414 - loss: 0.5348 - val_accuracy: 0.7263 - val_loss: 0.5572\n",
      "Epoch 74/100\n",
      "804/804 - 1s - 2ms/step - accuracy: 0.7411 - loss: 0.5347 - val_accuracy: 0.7237 - val_loss: 0.5583\n",
      "Epoch 75/100\n",
      "804/804 - 1s - 2ms/step - accuracy: 0.7406 - loss: 0.5344 - val_accuracy: 0.7243 - val_loss: 0.5580\n",
      "Epoch 76/100\n",
      "804/804 - 1s - 2ms/step - accuracy: 0.7403 - loss: 0.5342 - val_accuracy: 0.7240 - val_loss: 0.5606\n",
      "Epoch 77/100\n",
      "804/804 - 1s - 2ms/step - accuracy: 0.7412 - loss: 0.5344 - val_accuracy: 0.7248 - val_loss: 0.5570\n",
      "Epoch 78/100\n",
      "804/804 - 1s - 2ms/step - accuracy: 0.7415 - loss: 0.5337 - val_accuracy: 0.7241 - val_loss: 0.5586\n",
      "Epoch 79/100\n",
      "804/804 - 1s - 2ms/step - accuracy: 0.7413 - loss: 0.5341 - val_accuracy: 0.7243 - val_loss: 0.5596\n",
      "Epoch 80/100\n",
      "804/804 - 1s - 2ms/step - accuracy: 0.7412 - loss: 0.5345 - val_accuracy: 0.7244 - val_loss: 0.5574\n",
      "Epoch 81/100\n",
      "804/804 - 1s - 2ms/step - accuracy: 0.7407 - loss: 0.5337 - val_accuracy: 0.7242 - val_loss: 0.5554\n",
      "Epoch 82/100\n",
      "804/804 - 1s - 2ms/step - accuracy: 0.7407 - loss: 0.5339 - val_accuracy: 0.7241 - val_loss: 0.5602\n",
      "Epoch 83/100\n",
      "804/804 - 1s - 2ms/step - accuracy: 0.7407 - loss: 0.5339 - val_accuracy: 0.7261 - val_loss: 0.5580\n",
      "Epoch 84/100\n",
      "804/804 - 1s - 2ms/step - accuracy: 0.7416 - loss: 0.5341 - val_accuracy: 0.7230 - val_loss: 0.5600\n",
      "Epoch 85/100\n",
      "804/804 - 1s - 2ms/step - accuracy: 0.7413 - loss: 0.5335 - val_accuracy: 0.7257 - val_loss: 0.5596\n",
      "Epoch 86/100\n",
      "804/804 - 1s - 2ms/step - accuracy: 0.7415 - loss: 0.5340 - val_accuracy: 0.7257 - val_loss: 0.5594\n",
      "Epoch 87/100\n",
      "804/804 - 1s - 2ms/step - accuracy: 0.7413 - loss: 0.5338 - val_accuracy: 0.7240 - val_loss: 0.5577\n",
      "Epoch 88/100\n",
      "804/804 - 1s - 2ms/step - accuracy: 0.7411 - loss: 0.5340 - val_accuracy: 0.7250 - val_loss: 0.5589\n",
      "Epoch 89/100\n",
      "804/804 - 1s - 2ms/step - accuracy: 0.7416 - loss: 0.5333 - val_accuracy: 0.7248 - val_loss: 0.5606\n",
      "Epoch 90/100\n",
      "804/804 - 1s - 2ms/step - accuracy: 0.7408 - loss: 0.5335 - val_accuracy: 0.7241 - val_loss: 0.5599\n",
      "Epoch 91/100\n",
      "804/804 - 1s - 2ms/step - accuracy: 0.7419 - loss: 0.5334 - val_accuracy: 0.7251 - val_loss: 0.5597\n",
      "Epoch 92/100\n",
      "804/804 - 1s - 2ms/step - accuracy: 0.7418 - loss: 0.5334 - val_accuracy: 0.7242 - val_loss: 0.5590\n",
      "Epoch 93/100\n",
      "804/804 - 1s - 2ms/step - accuracy: 0.7403 - loss: 0.5338 - val_accuracy: 0.7256 - val_loss: 0.5584\n",
      "Epoch 94/100\n",
      "804/804 - 1s - 2ms/step - accuracy: 0.7421 - loss: 0.5333 - val_accuracy: 0.7240 - val_loss: 0.5594\n",
      "Epoch 95/100\n",
      "804/804 - 1s - 2ms/step - accuracy: 0.7413 - loss: 0.5332 - val_accuracy: 0.7259 - val_loss: 0.5615\n",
      "Epoch 96/100\n",
      "804/804 - 1s - 2ms/step - accuracy: 0.7416 - loss: 0.5330 - val_accuracy: 0.7252 - val_loss: 0.5586\n",
      "Epoch 97/100\n",
      "804/804 - 1s - 2ms/step - accuracy: 0.7418 - loss: 0.5329 - val_accuracy: 0.7257 - val_loss: 0.5585\n",
      "Epoch 98/100\n",
      "804/804 - 1s - 2ms/step - accuracy: 0.7412 - loss: 0.5332 - val_accuracy: 0.7244 - val_loss: 0.5598\n",
      "Epoch 99/100\n",
      "804/804 - 1s - 2ms/step - accuracy: 0.7421 - loss: 0.5330 - val_accuracy: 0.7244 - val_loss: 0.5594\n",
      "Epoch 100/100\n",
      "804/804 - 1s - 2ms/step - accuracy: 0.7424 - loss: 0.5333 - val_accuracy: 0.7261 - val_loss: 0.5587\n"
     ]
    }
   ],
   "source": [
    "# Train the model\n",
    "epochs = 100  \n",
    "batch_size = 32  \n",
    "\n",
    "fit_model = nn.fit(X_train_scaled, y_train, \n",
    "                   epochs=epochs, \n",
    "                   batch_size=batch_size, \n",
    "                   validation_data=(X_test_scaled, y_test), \n",
    "                   verbose=2)"
   ]
  },
  {
   "cell_type": "code",
   "execution_count": 29,
   "metadata": {},
   "outputs": [
    {
     "name": "stdout",
     "output_type": "stream",
     "text": [
      "268/268 - 0s - 2ms/step - accuracy: 0.7261 - loss: 0.5587\n",
      "Loss: 0.5587054491043091, Accuracy: 0.726064145565033\n"
     ]
    }
   ],
   "source": [
    "# Evaluate the model using the test data\n",
    "model_loss, model_accuracy = nn.evaluate(X_test_scaled,y_test,verbose=2)\n",
    "print(f\"Loss: {model_loss}, Accuracy: {model_accuracy}\")"
   ]
  },
  {
   "cell_type": "code",
   "execution_count": 33,
   "metadata": {},
   "outputs": [
    {
     "name": "stderr",
     "output_type": "stream",
     "text": [
      "WARNING:absl:You are saving your model as an HDF5 file via `model.save()` or `keras.saving.save_model(model)`. This file format is considered legacy. We recommend using instead the native Keras format, e.g. `model.save('my_model.keras')` or `keras.saving.save_model(model, 'my_model.keras')`. \n"
     ]
    }
   ],
   "source": [
    "# Export our model to HDF5 file\n",
    "nn.save('model.h5')"
   ]
  },
  {
   "cell_type": "code",
   "execution_count": null,
   "metadata": {},
   "outputs": [],
   "source": []
  }
 ],
 "metadata": {
  "kernelspec": {
   "display_name": "Python 3 (ipykernel)",
   "language": "python",
   "name": "python3"
  },
  "language_info": {
   "codemirror_mode": {
    "name": "ipython",
    "version": 3
   },
   "file_extension": ".py",
   "mimetype": "text/x-python",
   "name": "python",
   "nbconvert_exporter": "python",
   "pygments_lexer": "ipython3",
   "version": "3.12.4"
  },
  "vscode": {
   "interpreter": {
    "hash": "31f2aee4e71d21fbe5cf8b01ff0e069b9275f58929596ceb00d14d90e3e16cd6"
   }
  }
 },
 "nbformat": 4,
 "nbformat_minor": 4
}
